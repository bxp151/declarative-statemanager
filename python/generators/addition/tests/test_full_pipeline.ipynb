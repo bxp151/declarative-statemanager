{
 "cells": [
  {
   "cell_type": "code",
   "execution_count": 2,
   "metadata": {},
   "outputs": [
    {
     "ename": "NameError",
     "evalue": "name '__file__' is not defined",
     "output_type": "error",
     "traceback": [
      "\u001b[0;31m---------------------------------------------------------------------------\u001b[0m",
      "\u001b[0;31mNameError\u001b[0m                                 Traceback (most recent call last)",
      "Cell \u001b[0;32mIn[2], line 8\u001b[0m\n\u001b[1;32m      5\u001b[0m \u001b[38;5;28;01mimport\u001b[39;00m \u001b[38;5;21;01msys\u001b[39;00m\n\u001b[1;32m      7\u001b[0m \u001b[38;5;66;03m# Get the current script's directory\u001b[39;00m\n\u001b[0;32m----> 8\u001b[0m current_dir \u001b[38;5;241m=\u001b[39m os\u001b[38;5;241m.\u001b[39mpath\u001b[38;5;241m.\u001b[39mdirname(os\u001b[38;5;241m.\u001b[39mpath\u001b[38;5;241m.\u001b[39mabspath(\u001b[38;5;18;43m__file__\u001b[39;49m))\n\u001b[1;32m     10\u001b[0m \u001b[38;5;66;03m# Navigate one level up\u001b[39;00m\n\u001b[1;32m     11\u001b[0m parent_dir \u001b[38;5;241m=\u001b[39m os\u001b[38;5;241m.\u001b[39mpath\u001b[38;5;241m.\u001b[39mdirname(current_dir)\n",
      "\u001b[0;31mNameError\u001b[0m: name '__file__' is not defined"
     ]
    }
   ],
   "source": [
    "import unittest\n",
    "import numpy as np\n",
    "from pprint import pformat  # For cleaner diff output\n",
    "import os\n",
    "import sys\n",
    "\n",
    "# Get the current script's directory\n",
    "current_dir = os.path.dirname(os.path.abspath(__file__))\n",
    "\n",
    "# Navigate one level up\n",
    "parent_dir = os.path.dirname(current_dir)\n",
    "\n",
    "# Append the parent directory to sys.path\n",
    "sys.path.append(parent_dir)\n",
    "print(sys.path) \n",
    "\n",
    "from addition_generator import AdditionGenerator  # Adjust this import as needed\n",
    "\n",
    "numbers = [9, 1]\n",
    "result_python = AdditionGenerator.generate_addition_problems(numbers, output_format=\"python\")\n",
    "df = result_python[\"lookup_table\"]  # Access the lookup table\n",
    "df\n",
    "\n",
    "row_shape = df.index[-1][0] + 1\n",
    "col_shape = df.index[-1][1] + 1\n",
    "print (row_shape, col_shape)"
   ]
  },
  {
   "cell_type": "code",
   "execution_count": 5,
   "metadata": {},
   "outputs": [
    {
     "data": {
      "text/plain": [
       "['param_grid',\n",
       " array([[' ', 'C', ' '],\n",
       "        [' ', ' ', '9'],\n",
       "        ['+', ' ', '1'],\n",
       "        [' ', 'A', 'B']], dtype=object),\n",
       " 'solved_grid',\n",
       " array([[' ', '1', ' '],\n",
       "        [' ', ' ', '9'],\n",
       "        ['+', ' ', '1'],\n",
       "        [' ', '1', '0']], dtype=object),\n",
       " 'step_map',\n",
       " array([[' ', '1', ' '],\n",
       "        [' ', ' ', '1'],\n",
       "        [' ', ' ', '1'],\n",
       "        [' ', '2', '1']], dtype=object),\n",
       " 'step_human',\n",
       " array([[None,\n",
       "         'Step 1\\nOperation: Add 9 and 1\\nCalculation: 9 + 1 = 0\\nAnswer: 0\\nCarry: Enter 1 in the carry row for the next column',\n",
       "         None],\n",
       "        [None, None,\n",
       "         'Step 1\\nOperation: Add 9 and 1\\nCalculation: 9 + 1 = 0\\nAnswer: 0\\nCarry: Enter 1 in the carry row for the next column'],\n",
       "        [None, None,\n",
       "         'Step 1\\nOperation: Add 9 and 1\\nCalculation: 9 + 1 = 0\\nAnswer: 0\\nCarry: Enter 1 in the carry row for the next column'],\n",
       "        [None,\n",
       "         'Step 2\\nOperation: Add 1 and nothing\\nCalculation: 1 + nothing = 1\\nAnswer: 1\\nCarry: No carry is needed for this step',\n",
       "         'Step 1\\nOperation: Add 9 and 1\\nCalculation: 9 + 1 = 0\\nAnswer: 0\\nCarry: Enter 1 in the carry row for the next column']],\n",
       "       dtype=object)]"
      ]
     },
     "execution_count": 5,
     "metadata": {},
     "output_type": "execute_result"
    }
   ],
   "source": [
    "param_grid = df['param_grid'].to_numpy().reshape(row_shape, col_shape)\n",
    "solved_grid = df['solved_grid'].to_numpy().reshape(row_shape, col_shape)\n",
    "step_map = df['step_map'].to_numpy().reshape(row_shape, col_shape)\n",
    "step_human = df['step_human'].to_numpy().reshape(row_shape, col_shape)\n",
    "\n",
    "final_list = ['param_grid', param_grid, 'solved_grid', solved_grid, 'step_map', step_map, 'step_human', step_human]\n",
    "final_list"
   ]
  }
 ],
 "metadata": {
  "kernelspec": {
   "display_name": "venv",
   "language": "python",
   "name": "python3"
  },
  "language_info": {
   "codemirror_mode": {
    "name": "ipython",
    "version": 3
   },
   "file_extension": ".py",
   "mimetype": "text/x-python",
   "name": "python",
   "nbconvert_exporter": "python",
   "pygments_lexer": "ipython3",
   "version": "3.13.1"
  }
 },
 "nbformat": 4,
 "nbformat_minor": 2
}
